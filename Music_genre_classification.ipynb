{
  "nbformat": 4,
  "nbformat_minor": 0,
  "metadata": {
    "colab": {
      "name": "Music_genre_classification.ipynb",
      "provenance": [],
      "collapsed_sections": []
    },
    "kernelspec": {
      "name": "python3",
      "display_name": "Python 3"
    },
    "language_info": {
      "name": "python"
    }
  },
  "cells": [
    {
      "cell_type": "code",
      "metadata": {
        "colab": {
          "base_uri": "https://localhost:8080/"
        },
        "id": "aEpWx_kFzI8n",
        "outputId": "3ffd730e-29a1-4931-d88a-ae0489409d53"
      },
      "source": [
        "# Mounting google drive\n",
        "from google.colab import drive\n",
        "\n",
        "drive.mount('/content/gdrive')\n",
        "\n"
      ],
      "execution_count": 1,
      "outputs": [
        {
          "output_type": "stream",
          "text": [
            "Mounted at /content/gdrive\n"
          ],
          "name": "stdout"
        }
      ]
    },
    {
      "cell_type": "code",
      "metadata": {
        "id": "a6OHZjOozq7c"
      },
      "source": [
        "# Imports\n",
        "\n",
        "import numpy as np\n",
        "import librosa\n",
        "from sklearn.model_selection import train_test_split\n",
        "import os\n",
        "import math\n",
        "import json\n",
        "import tensorflow as tf\n",
        "import tensorflow.keras as keras\n",
        "from tensorflow.keras.utils import to_categorical\n",
        "from tensorflow.keras import regularizers"
      ],
      "execution_count": 2,
      "outputs": []
    },
    {
      "cell_type": "markdown",
      "metadata": {
        "id": "_BTxptwf3VvN"
      },
      "source": [
        "## **Extracting and storing MFCCs from each audio signal**"
      ]
    },
    {
      "cell_type": "code",
      "metadata": {
        "id": "csvm2SLR3f4g"
      },
      "source": [
        "# Defining constants\n",
        "\n",
        "dataset = '/content/gdrive/MyDrive/Data/genres_original'\n",
        "sample_rate = 22050\n",
        "duration = 30 #secs\n",
        "samples_per_track = sample_rate * duration\n",
        "\n",
        "\n"
      ],
      "execution_count": 3,
      "outputs": []
    },
    {
      "cell_type": "code",
      "metadata": {
        "id": "pObE1o7b4AnV"
      },
      "source": [
        "# Funtion to extract mfccs from each segment of each audio file and store them in a json file\n",
        "\n",
        "def mfcc_extract(dataset, num_mfcc = 13, n_fft = 2048, hop_length = 512, num_segments = 5):\n",
        "\n",
        "  data = { \"classes\":[], \"mfccs\":[],\"labels\":[] }\n",
        "\n",
        "  samples_per_segment = int(samples_per_track/num_segments)\n",
        "  num_mfcc_vectors_per_segment = math.ceil(samples_per_segment / hop_length)\n",
        "\n",
        "  for i,(root,dirs,files) in enumerate(os.walk(dataset)):\n",
        "\n",
        "    if root is not dataset:\n",
        "      \n",
        "      # Extracting class name from directory path and storing it in the dictionary\n",
        "      label = root.split('/')[-1]\n",
        "      data['classes'].append(label)\n",
        "\n",
        "      # Extracting MFCCs from each audio file segment\n",
        "      for f in files:\n",
        "\n",
        "        file_path = os.path.join(root,f)\n",
        "        signal,sr = librosa.load(file_path,sr = sample_rate)\n",
        "\n",
        "        for s in range(num_segments):\n",
        "\n",
        "          # Find starting and ending points of each segment in the audio file\n",
        "          start = samples_per_segment * s\n",
        "          end = start + samples_per_segment\n",
        "\n",
        "          # Extract mfcc for current segment \n",
        "          mfcc = librosa.feature.mfcc(signal[start:end], sample_rate, n_mfcc=num_mfcc, n_fft=n_fft, hop_length=hop_length).T\n",
        "\n",
        "          # Ensuring that shape of mfccs is fixed to avoid problems when feeding the data into the network\n",
        "          if len(mfcc) == num_mfcc_vectors_per_segment:\n",
        "              data[\"mfccs\"].append(mfcc.tolist())\n",
        "              data[\"labels\"].append(i-1)\n",
        "  \n",
        "  with open('/content/gdrive/MyDrive/Data/mfcc.json','w') as f:\n",
        "    json.dump(data, f)\n",
        "\n",
        "\n",
        "\n",
        "mfcc_extract(dataset)"
      ],
      "execution_count": null,
      "outputs": []
    },
    {
      "cell_type": "markdown",
      "metadata": {
        "id": "wLTMgbpygXP2"
      },
      "source": [
        "### **Artificial Neural Network for Music genre classification**"
      ]
    },
    {
      "cell_type": "code",
      "metadata": {
        "colab": {
          "base_uri": "https://localhost:8080/"
        },
        "id": "lAuv9j1yggl8",
        "outputId": "1dcea712-08f2-4878-91e1-206e404d2825"
      },
      "source": [
        "# Loading the data from the mfcc.json file\n",
        "\n",
        "with open('/content/gdrive/MyDrive/Data/mfcc.json','r') as f:\n",
        "  data = json.load(f)\n",
        "\n",
        "# Removing unwanted classes \n",
        "data['classes'].remove('.ipynb_checkpoints')\n",
        "print(data['classes'])\n",
        "np.unique(data['labels'])\n"
      ],
      "execution_count": 4,
      "outputs": [
        {
          "output_type": "stream",
          "text": [
            "['rock', 'blues', 'reggae', 'disco', 'pop', 'hiphop', 'metal', 'country', 'classical', 'jazz']\n"
          ],
          "name": "stdout"
        },
        {
          "output_type": "execute_result",
          "data": {
            "text/plain": [
              "array([0, 1, 2, 3, 4, 5, 6, 7, 8, 9])"
            ]
          },
          "metadata": {
            "tags": []
          },
          "execution_count": 4
        }
      ]
    },
    {
      "cell_type": "code",
      "metadata": {
        "colab": {
          "base_uri": "https://localhost:8080/"
        },
        "id": "cmtTZZaEjNbM",
        "outputId": "cc21a902-8f08-4c72-a080-2ea7849aa3d3"
      },
      "source": [
        "# Splitting data into train and test sets\n",
        "\n",
        "X = np.array(data['mfccs'])\n",
        "y = np.array(data['labels'])\n",
        "\n",
        "X_train,X_test,y_train,y_test = train_test_split(X,y,test_size=0.3)\n",
        "\n",
        "#Printing shapes for sanity check\n",
        "print(X_train.shape)\n",
        "print(X_test.shape)\n",
        "print(y_train.shape)\n",
        "print(y_test.shape)\n",
        "\n",
        "\n",
        "\n"
      ],
      "execution_count": null,
      "outputs": [
        {
          "output_type": "stream",
          "text": [
            "(3495, 259, 13)\n",
            "(1498, 259, 13)\n",
            "(3495,)\n",
            "(1498,)\n"
          ],
          "name": "stdout"
        }
      ]
    },
    {
      "cell_type": "code",
      "metadata": {
        "colab": {
          "base_uri": "https://localhost:8080/"
        },
        "id": "Gg3poEdzk7PV",
        "outputId": "21b7f146-6bcb-49cf-cbac-3c19a158d57e"
      },
      "source": [
        "# Building the model\n",
        "\n",
        "model = keras.Sequential([\n",
        "        \n",
        "        keras.layers.Flatten(input_shape=(X.shape[1], X.shape[2])),\n",
        "        keras.layers.Dense(512, activation='relu', kernel_regularizer=keras.regularizers.l2(0.001)),\n",
        "        keras.layers.Dense(256, activation='relu', kernel_regularizer=keras.regularizers.l2(0.001)),\n",
        "        keras.layers.Dense(64, activation='relu', kernel_regularizer=keras.regularizers.l2(0.001)),\n",
        "        keras.layers.Dense(10, activation='softmax')\n",
        "])\n",
        "\n",
        "model.compile(optimizer='adam',\n",
        "                  loss='sparse_categorical_crossentropy',\n",
        "                  metrics=['accuracy'])\n",
        "\n",
        "model.summary()"
      ],
      "execution_count": null,
      "outputs": [
        {
          "output_type": "stream",
          "text": [
            "Model: \"sequential_8\"\n",
            "_________________________________________________________________\n",
            "Layer (type)                 Output Shape              Param #   \n",
            "=================================================================\n",
            "flatten_9 (Flatten)          (None, 3367)              0         \n",
            "_________________________________________________________________\n",
            "dense_39 (Dense)             (None, 512)               1724416   \n",
            "_________________________________________________________________\n",
            "dense_40 (Dense)             (None, 256)               131328    \n",
            "_________________________________________________________________\n",
            "dense_41 (Dense)             (None, 64)                16448     \n",
            "_________________________________________________________________\n",
            "dense_42 (Dense)             (None, 10)                650       \n",
            "=================================================================\n",
            "Total params: 1,872,842\n",
            "Trainable params: 1,872,842\n",
            "Non-trainable params: 0\n",
            "_________________________________________________________________\n"
          ],
          "name": "stdout"
        }
      ]
    },
    {
      "cell_type": "code",
      "metadata": {
        "colab": {
          "base_uri": "https://localhost:8080/"
        },
        "id": "mFIUWdHdn4uy",
        "outputId": "91494d52-b638-4828-91b9-29fb51b30b5a"
      },
      "source": [
        "# Training the model\n",
        "\n",
        "model.fit(X_train, y_train, validation_data=(X_test, y_test), batch_size=32, epochs=100)"
      ],
      "execution_count": null,
      "outputs": [
        {
          "output_type": "stream",
          "text": [
            "Epoch 1/100\n",
            "110/110 [==============================] - 3s 28ms/step - loss: 0.9901 - accuracy: 0.8438 - val_loss: 2.8188 - val_accuracy: 0.5327\n",
            "Epoch 2/100\n",
            "110/110 [==============================] - 3s 27ms/step - loss: 0.8350 - accuracy: 0.8761 - val_loss: 2.8233 - val_accuracy: 0.5467\n",
            "Epoch 3/100\n",
            "110/110 [==============================] - 3s 27ms/step - loss: 1.0674 - accuracy: 0.8100 - val_loss: 2.8490 - val_accuracy: 0.5073\n",
            "Epoch 4/100\n",
            "110/110 [==============================] - 3s 27ms/step - loss: 0.9122 - accuracy: 0.8658 - val_loss: 2.7679 - val_accuracy: 0.5427\n",
            "Epoch 5/100\n",
            "110/110 [==============================] - 3s 27ms/step - loss: 0.7336 - accuracy: 0.9182 - val_loss: 2.8339 - val_accuracy: 0.5607\n",
            "Epoch 6/100\n",
            "110/110 [==============================] - 3s 27ms/step - loss: 0.9359 - accuracy: 0.8506 - val_loss: 2.6290 - val_accuracy: 0.5274\n",
            "Epoch 7/100\n",
            "110/110 [==============================] - 3s 27ms/step - loss: 0.7426 - accuracy: 0.9087 - val_loss: 2.7750 - val_accuracy: 0.5494\n",
            "Epoch 8/100\n",
            "110/110 [==============================] - 3s 27ms/step - loss: 0.7273 - accuracy: 0.9056 - val_loss: 2.6371 - val_accuracy: 0.5668\n",
            "Epoch 9/100\n",
            "110/110 [==============================] - 3s 27ms/step - loss: 0.7328 - accuracy: 0.9019 - val_loss: 2.8440 - val_accuracy: 0.5180\n",
            "Epoch 10/100\n",
            "110/110 [==============================] - 3s 27ms/step - loss: 0.7306 - accuracy: 0.8990 - val_loss: 2.7827 - val_accuracy: 0.5401\n",
            "Epoch 11/100\n",
            "110/110 [==============================] - 3s 26ms/step - loss: 1.0498 - accuracy: 0.8409 - val_loss: 4.8381 - val_accuracy: 0.4760\n",
            "Epoch 12/100\n",
            "110/110 [==============================] - 3s 27ms/step - loss: 1.1876 - accuracy: 0.8449 - val_loss: 2.8914 - val_accuracy: 0.5701\n",
            "Epoch 13/100\n",
            "110/110 [==============================] - 3s 27ms/step - loss: 0.9273 - accuracy: 0.8876 - val_loss: 2.8912 - val_accuracy: 0.5554\n",
            "Epoch 14/100\n",
            "110/110 [==============================] - 3s 27ms/step - loss: 0.8261 - accuracy: 0.8987 - val_loss: 2.7185 - val_accuracy: 0.5534\n",
            "Epoch 15/100\n",
            "110/110 [==============================] - 3s 27ms/step - loss: 0.8126 - accuracy: 0.8941 - val_loss: 2.6690 - val_accuracy: 0.5447\n",
            "Epoch 16/100\n",
            "110/110 [==============================] - 3s 27ms/step - loss: 0.6784 - accuracy: 0.9336 - val_loss: 2.8077 - val_accuracy: 0.5648\n",
            "Epoch 17/100\n",
            "110/110 [==============================] - 3s 27ms/step - loss: 0.5928 - accuracy: 0.9525 - val_loss: 2.8739 - val_accuracy: 0.5808\n",
            "Epoch 18/100\n",
            "110/110 [==============================] - 3s 27ms/step - loss: 0.6545 - accuracy: 0.9262 - val_loss: 3.0123 - val_accuracy: 0.5247\n",
            "Epoch 19/100\n",
            "110/110 [==============================] - 3s 28ms/step - loss: 0.8822 - accuracy: 0.8627 - val_loss: 3.0232 - val_accuracy: 0.5387\n",
            "Epoch 20/100\n",
            "110/110 [==============================] - 3s 28ms/step - loss: 0.7885 - accuracy: 0.8876 - val_loss: 2.7653 - val_accuracy: 0.5621\n",
            "Epoch 21/100\n",
            "110/110 [==============================] - 3s 28ms/step - loss: 0.6823 - accuracy: 0.9162 - val_loss: 2.9018 - val_accuracy: 0.5567\n",
            "Epoch 22/100\n",
            "110/110 [==============================] - 3s 27ms/step - loss: 0.6677 - accuracy: 0.9185 - val_loss: 2.8350 - val_accuracy: 0.5621\n",
            "Epoch 23/100\n",
            "110/110 [==============================] - 3s 28ms/step - loss: 0.6540 - accuracy: 0.9193 - val_loss: 2.7983 - val_accuracy: 0.5567\n",
            "Epoch 24/100\n",
            "110/110 [==============================] - 3s 28ms/step - loss: 0.5249 - accuracy: 0.9605 - val_loss: 2.8939 - val_accuracy: 0.5541\n",
            "Epoch 25/100\n",
            "110/110 [==============================] - 3s 28ms/step - loss: 0.5477 - accuracy: 0.9499 - val_loss: 2.9502 - val_accuracy: 0.5334\n",
            "Epoch 26/100\n",
            "110/110 [==============================] - 3s 28ms/step - loss: 0.7082 - accuracy: 0.8944 - val_loss: 3.3521 - val_accuracy: 0.4700\n",
            "Epoch 27/100\n",
            "110/110 [==============================] - 3s 27ms/step - loss: 0.8113 - accuracy: 0.8690 - val_loss: 3.1964 - val_accuracy: 0.4913\n",
            "Epoch 28/100\n",
            "110/110 [==============================] - 3s 27ms/step - loss: 0.7050 - accuracy: 0.9053 - val_loss: 2.8789 - val_accuracy: 0.5501\n",
            "Epoch 29/100\n",
            "110/110 [==============================] - 3s 31ms/step - loss: 0.7484 - accuracy: 0.8953 - val_loss: 3.0512 - val_accuracy: 0.5641\n",
            "Epoch 30/100\n",
            "110/110 [==============================] - 3s 28ms/step - loss: 0.8731 - accuracy: 0.8764 - val_loss: 3.2012 - val_accuracy: 0.5240\n",
            "Epoch 31/100\n",
            "110/110 [==============================] - 3s 27ms/step - loss: 0.7606 - accuracy: 0.9076 - val_loss: 2.5546 - val_accuracy: 0.5681\n",
            "Epoch 32/100\n",
            "110/110 [==============================] - 3s 28ms/step - loss: 0.5647 - accuracy: 0.9536 - val_loss: 2.7682 - val_accuracy: 0.5748\n",
            "Epoch 33/100\n",
            "110/110 [==============================] - 3s 29ms/step - loss: 0.6233 - accuracy: 0.9225 - val_loss: 2.7721 - val_accuracy: 0.5514\n",
            "Epoch 34/100\n",
            "110/110 [==============================] - 3s 28ms/step - loss: 0.7633 - accuracy: 0.8784 - val_loss: 2.6265 - val_accuracy: 0.5761\n",
            "Epoch 35/100\n",
            "110/110 [==============================] - 3s 27ms/step - loss: 0.6584 - accuracy: 0.9162 - val_loss: 2.6164 - val_accuracy: 0.5708\n",
            "Epoch 36/100\n",
            "110/110 [==============================] - 3s 27ms/step - loss: 0.5365 - accuracy: 0.9531 - val_loss: 3.2177 - val_accuracy: 0.5300\n",
            "Epoch 37/100\n",
            "110/110 [==============================] - 3s 28ms/step - loss: 0.6438 - accuracy: 0.9227 - val_loss: 2.9010 - val_accuracy: 0.4933\n",
            "Epoch 38/100\n",
            "110/110 [==============================] - 3s 28ms/step - loss: 0.7770 - accuracy: 0.8647 - val_loss: 2.7996 - val_accuracy: 0.5481\n",
            "Epoch 39/100\n",
            "110/110 [==============================] - 3s 28ms/step - loss: 0.5734 - accuracy: 0.9256 - val_loss: 3.0828 - val_accuracy: 0.5407\n",
            "Epoch 40/100\n",
            "110/110 [==============================] - 3s 28ms/step - loss: 0.5948 - accuracy: 0.9233 - val_loss: 3.1047 - val_accuracy: 0.5060\n",
            "Epoch 41/100\n",
            "110/110 [==============================] - 3s 28ms/step - loss: 0.6046 - accuracy: 0.9187 - val_loss: 2.8980 - val_accuracy: 0.5407\n",
            "Epoch 42/100\n",
            "110/110 [==============================] - 3s 28ms/step - loss: 0.6454 - accuracy: 0.8990 - val_loss: 2.7150 - val_accuracy: 0.5527\n",
            "Epoch 43/100\n",
            "110/110 [==============================] - 3s 28ms/step - loss: 0.4938 - accuracy: 0.9536 - val_loss: 3.1491 - val_accuracy: 0.5200\n",
            "Epoch 44/100\n",
            "110/110 [==============================] - 3s 27ms/step - loss: 0.4986 - accuracy: 0.9479 - val_loss: 2.8959 - val_accuracy: 0.5534\n",
            "Epoch 45/100\n",
            "110/110 [==============================] - 3s 29ms/step - loss: 0.4666 - accuracy: 0.9548 - val_loss: 3.0835 - val_accuracy: 0.5547\n",
            "Epoch 46/100\n",
            "110/110 [==============================] - 3s 29ms/step - loss: 0.6180 - accuracy: 0.9067 - val_loss: 3.3489 - val_accuracy: 0.5000\n",
            "Epoch 47/100\n",
            "110/110 [==============================] - 3s 28ms/step - loss: 0.8176 - accuracy: 0.8770 - val_loss: 2.8008 - val_accuracy: 0.5467\n",
            "Epoch 48/100\n",
            "110/110 [==============================] - 3s 28ms/step - loss: 0.6247 - accuracy: 0.9253 - val_loss: 2.7135 - val_accuracy: 0.5594\n",
            "Epoch 49/100\n",
            "110/110 [==============================] - 3s 28ms/step - loss: 0.5202 - accuracy: 0.9462 - val_loss: 2.7197 - val_accuracy: 0.5901\n",
            "Epoch 50/100\n",
            "110/110 [==============================] - 3s 28ms/step - loss: 0.7105 - accuracy: 0.8913 - val_loss: 2.7229 - val_accuracy: 0.5614\n",
            "Epoch 51/100\n",
            "110/110 [==============================] - 3s 28ms/step - loss: 0.5297 - accuracy: 0.9393 - val_loss: 2.7349 - val_accuracy: 0.5781\n",
            "Epoch 52/100\n",
            "110/110 [==============================] - 3s 29ms/step - loss: 0.4735 - accuracy: 0.9582 - val_loss: 3.2509 - val_accuracy: 0.5467\n",
            "Epoch 53/100\n",
            "110/110 [==============================] - 3s 28ms/step - loss: 0.6580 - accuracy: 0.8901 - val_loss: 3.0061 - val_accuracy: 0.5427\n",
            "Epoch 54/100\n",
            "110/110 [==============================] - 3s 28ms/step - loss: 0.4751 - accuracy: 0.9539 - val_loss: 2.8096 - val_accuracy: 0.5728\n",
            "Epoch 55/100\n",
            "110/110 [==============================] - 3s 27ms/step - loss: 0.4344 - accuracy: 0.9617 - val_loss: 3.0822 - val_accuracy: 0.5521\n",
            "Epoch 56/100\n",
            "110/110 [==============================] - 3s 27ms/step - loss: 0.6080 - accuracy: 0.9076 - val_loss: 3.4079 - val_accuracy: 0.4987\n",
            "Epoch 57/100\n",
            "110/110 [==============================] - 3s 28ms/step - loss: 0.6278 - accuracy: 0.9087 - val_loss: 2.8312 - val_accuracy: 0.5668\n",
            "Epoch 58/100\n",
            "110/110 [==============================] - 3s 28ms/step - loss: 0.5846 - accuracy: 0.9236 - val_loss: 2.8278 - val_accuracy: 0.5467\n",
            "Epoch 59/100\n",
            "110/110 [==============================] - 3s 28ms/step - loss: 0.5918 - accuracy: 0.9302 - val_loss: 2.8822 - val_accuracy: 0.5501\n",
            "Epoch 60/100\n",
            "110/110 [==============================] - 3s 27ms/step - loss: 0.5506 - accuracy: 0.9351 - val_loss: 3.2169 - val_accuracy: 0.5254\n",
            "Epoch 61/100\n",
            "110/110 [==============================] - 3s 28ms/step - loss: 0.6054 - accuracy: 0.9144 - val_loss: 2.7944 - val_accuracy: 0.5547\n",
            "Epoch 62/100\n",
            "110/110 [==============================] - 3s 29ms/step - loss: 0.5624 - accuracy: 0.9310 - val_loss: 2.8676 - val_accuracy: 0.5534\n",
            "Epoch 63/100\n",
            "110/110 [==============================] - 3s 28ms/step - loss: 0.4790 - accuracy: 0.9582 - val_loss: 2.8800 - val_accuracy: 0.5661\n",
            "Epoch 64/100\n",
            "110/110 [==============================] - 3s 28ms/step - loss: 0.6813 - accuracy: 0.8987 - val_loss: 2.9088 - val_accuracy: 0.5294\n",
            "Epoch 65/100\n",
            "110/110 [==============================] - 3s 28ms/step - loss: 0.5101 - accuracy: 0.9451 - val_loss: 2.8306 - val_accuracy: 0.5447\n",
            "Epoch 66/100\n",
            "110/110 [==============================] - 3s 28ms/step - loss: 0.4610 - accuracy: 0.9594 - val_loss: 2.7975 - val_accuracy: 0.5447\n",
            "Epoch 67/100\n",
            "110/110 [==============================] - 3s 28ms/step - loss: 0.4299 - accuracy: 0.9591 - val_loss: 3.9508 - val_accuracy: 0.4546\n",
            "Epoch 68/100\n",
            "110/110 [==============================] - 3s 28ms/step - loss: 0.5774 - accuracy: 0.9205 - val_loss: 2.8236 - val_accuracy: 0.5534\n",
            "Epoch 69/100\n",
            "110/110 [==============================] - 3s 28ms/step - loss: 0.6591 - accuracy: 0.9156 - val_loss: 3.2828 - val_accuracy: 0.5260\n",
            "Epoch 70/100\n",
            "110/110 [==============================] - 3s 28ms/step - loss: 1.1159 - accuracy: 0.8458 - val_loss: 2.7366 - val_accuracy: 0.5668\n",
            "Epoch 71/100\n",
            "110/110 [==============================] - 3s 28ms/step - loss: 0.5852 - accuracy: 0.9554 - val_loss: 2.6457 - val_accuracy: 0.5868\n",
            "Epoch 72/100\n",
            "110/110 [==============================] - 3s 29ms/step - loss: 0.4837 - accuracy: 0.9754 - val_loss: 2.7722 - val_accuracy: 0.5975\n",
            "Epoch 73/100\n",
            "110/110 [==============================] - 3s 28ms/step - loss: 0.4258 - accuracy: 0.9863 - val_loss: 3.0607 - val_accuracy: 0.5834\n",
            "Epoch 74/100\n",
            "110/110 [==============================] - 3s 28ms/step - loss: 0.4705 - accuracy: 0.9588 - val_loss: 3.3477 - val_accuracy: 0.5394\n",
            "Epoch 75/100\n",
            "110/110 [==============================] - 3s 28ms/step - loss: 0.4974 - accuracy: 0.9479 - val_loss: 2.8831 - val_accuracy: 0.5574\n",
            "Epoch 76/100\n",
            "110/110 [==============================] - 3s 28ms/step - loss: 0.6069 - accuracy: 0.9170 - val_loss: 2.6211 - val_accuracy: 0.5848\n",
            "Epoch 77/100\n",
            "110/110 [==============================] - 3s 29ms/step - loss: 0.4000 - accuracy: 0.9760 - val_loss: 2.7680 - val_accuracy: 0.5841\n",
            "Epoch 78/100\n",
            "110/110 [==============================] - 3s 29ms/step - loss: 0.6469 - accuracy: 0.9021 - val_loss: 3.3251 - val_accuracy: 0.4967\n",
            "Epoch 79/100\n",
            "110/110 [==============================] - 3s 29ms/step - loss: 0.6957 - accuracy: 0.8835 - val_loss: 2.5413 - val_accuracy: 0.5401\n",
            "Epoch 80/100\n",
            "110/110 [==============================] - 3s 28ms/step - loss: 0.5454 - accuracy: 0.9282 - val_loss: 2.8886 - val_accuracy: 0.5287\n",
            "Epoch 81/100\n",
            "110/110 [==============================] - 3s 29ms/step - loss: 0.4094 - accuracy: 0.9751 - val_loss: 2.8463 - val_accuracy: 0.5788\n",
            "Epoch 82/100\n",
            "110/110 [==============================] - 3s 31ms/step - loss: 0.3621 - accuracy: 0.9848 - val_loss: 3.0280 - val_accuracy: 0.5507\n",
            "Epoch 83/100\n",
            "110/110 [==============================] - 3s 29ms/step - loss: 0.5787 - accuracy: 0.9119 - val_loss: 3.2919 - val_accuracy: 0.5060\n",
            "Epoch 84/100\n",
            "110/110 [==============================] - 3s 30ms/step - loss: 0.7353 - accuracy: 0.8755 - val_loss: 3.0877 - val_accuracy: 0.5073\n",
            "Epoch 85/100\n",
            "110/110 [==============================] - 3s 28ms/step - loss: 0.5672 - accuracy: 0.9322 - val_loss: 2.5650 - val_accuracy: 0.5781\n",
            "Epoch 86/100\n",
            "110/110 [==============================] - 3s 29ms/step - loss: 0.3950 - accuracy: 0.9791 - val_loss: 2.7291 - val_accuracy: 0.5668\n",
            "Epoch 87/100\n",
            "110/110 [==============================] - 3s 28ms/step - loss: 0.7571 - accuracy: 0.8999 - val_loss: 2.8368 - val_accuracy: 0.5427\n",
            "Epoch 88/100\n",
            "110/110 [==============================] - 3s 29ms/step - loss: 0.6069 - accuracy: 0.9502 - val_loss: 2.8999 - val_accuracy: 0.5554\n",
            "Epoch 89/100\n",
            "110/110 [==============================] - 3s 28ms/step - loss: 0.5624 - accuracy: 0.9416 - val_loss: 2.9150 - val_accuracy: 0.5354\n",
            "Epoch 90/100\n",
            "110/110 [==============================] - 3s 28ms/step - loss: 0.5165 - accuracy: 0.9479 - val_loss: 2.8548 - val_accuracy: 0.5541\n",
            "Epoch 91/100\n",
            "110/110 [==============================] - 3s 29ms/step - loss: 0.4186 - accuracy: 0.9717 - val_loss: 2.8477 - val_accuracy: 0.5694\n",
            "Epoch 92/100\n",
            "110/110 [==============================] - 3s 28ms/step - loss: 0.4124 - accuracy: 0.9694 - val_loss: 3.5635 - val_accuracy: 0.5307\n",
            "Epoch 93/100\n",
            "110/110 [==============================] - 3s 28ms/step - loss: 0.6645 - accuracy: 0.8961 - val_loss: 2.8052 - val_accuracy: 0.5714\n",
            "Epoch 94/100\n",
            "110/110 [==============================] - 3s 28ms/step - loss: 0.4693 - accuracy: 0.9565 - val_loss: 3.1226 - val_accuracy: 0.5427\n",
            "Epoch 95/100\n",
            "110/110 [==============================] - 3s 28ms/step - loss: 0.4747 - accuracy: 0.9577 - val_loss: 3.1619 - val_accuracy: 0.5534\n",
            "Epoch 96/100\n",
            "110/110 [==============================] - 3s 28ms/step - loss: 0.5549 - accuracy: 0.9302 - val_loss: 3.1951 - val_accuracy: 0.5534\n",
            "Epoch 97/100\n",
            "110/110 [==============================] - 3s 28ms/step - loss: 0.6304 - accuracy: 0.9056 - val_loss: 2.8675 - val_accuracy: 0.5494\n",
            "Epoch 98/100\n",
            "110/110 [==============================] - 3s 29ms/step - loss: 0.4996 - accuracy: 0.9425 - val_loss: 2.6966 - val_accuracy: 0.5788\n",
            "Epoch 99/100\n",
            "110/110 [==============================] - 3s 28ms/step - loss: 0.3604 - accuracy: 0.9866 - val_loss: 2.7431 - val_accuracy: 0.6015\n",
            "Epoch 100/100\n",
            "110/110 [==============================] - 3s 28ms/step - loss: 0.4060 - accuracy: 0.9628 - val_loss: 2.8732 - val_accuracy: 0.5648\n"
          ],
          "name": "stdout"
        },
        {
          "output_type": "execute_result",
          "data": {
            "text/plain": [
              "<tensorflow.python.keras.callbacks.History at 0x7efd44a1c490>"
            ]
          },
          "metadata": {
            "tags": []
          },
          "execution_count": 66
        }
      ]
    },
    {
      "cell_type": "markdown",
      "metadata": {
        "id": "mDyJQyZJx3CK"
      },
      "source": [
        "## **CNN for Music genre classification**"
      ]
    },
    {
      "cell_type": "code",
      "metadata": {
        "colab": {
          "base_uri": "https://localhost:8080/"
        },
        "id": "li1ASesCx9n5",
        "outputId": "7917b689-d8ad-4c54-af00-094781a66c93"
      },
      "source": [
        "# Obtaining the inputs and outputs\n",
        "\n",
        "X = np.array(data['mfccs'])\n",
        "y = np.array(data['labels'])\n",
        "\n",
        "X_train,X_test,y_train,y_test = train_test_split(X,y,test_size = 0.3)\n",
        "\n",
        "# Adding another dimension to the inputs as CNNs accept inputs of shape [w,h,num_channels]\n",
        "X_train = X_train[... , np.newaxis]\n",
        "X_test = X_test[... , np.newaxis]\n",
        "\n",
        "# Sanity check\n",
        "print(X_test.shape)\n",
        "print(X_train.shape)\n",
        "print(y_test.shape)\n",
        "print(y_train.shape)\n"
      ],
      "execution_count": null,
      "outputs": [
        {
          "output_type": "stream",
          "text": [
            "(1498, 259, 13, 1)\n",
            "(3495, 259, 13, 1)\n",
            "(1498,)\n",
            "(3495,)\n"
          ],
          "name": "stdout"
        }
      ]
    },
    {
      "cell_type": "code",
      "metadata": {
        "colab": {
          "base_uri": "https://localhost:8080/"
        },
        "id": "P6EIeVRRM891",
        "outputId": "3fad5ef1-50b7-4a04-ba24-a069c20c6644"
      },
      "source": [
        "# Building the CNN model\n",
        "\n",
        "cnn_model = keras.Sequential([\n",
        "                              \n",
        "            keras.layers.Conv2D(32,[3,3],activation='relu',input_shape = [X_train.shape[1],X_train.shape[2],X_train.shape[3]]),\n",
        "            keras.layers.MaxPooling2D([3,3],strides=(2,2),padding='same'),\n",
        "            keras.layers.BatchNormalization(),\n",
        "\n",
        "            keras.layers.Conv2D(64,[2,2],activation='relu'),\n",
        "            keras.layers.MaxPooling2D([3,3],strides=[2,2],padding='same'),\n",
        "            keras.layers.BatchNormalization(),\n",
        "\n",
        "            keras.layers.Conv2D(64,[2,2],activation='relu'),\n",
        "            keras.layers.MaxPooling2D([2,2],strides=[2,2],padding='same'),\n",
        "            keras.layers.BatchNormalization(),\n",
        "\n",
        "            keras.layers.Flatten(),\n",
        "            \n",
        "\n",
        "            keras.layers.Dense(64,activation='relu',kernel_regularizer= regularizers.l2(1e-4)),\n",
        "            keras.layers.Dropout(0.4),\n",
        "\n",
        "            keras.layers.Dense(10,activation='softmax')\n",
        "\n",
        "])\n",
        "optimizer = keras.optimizers.Adam(learning_rate=0.0001)\n",
        "cnn_model.compile(optimizer='adam',loss='sparse_categorical_crossentropy',metrics=['accuracy'])\n",
        "\n",
        "cnn_model.summary()"
      ],
      "execution_count": null,
      "outputs": [
        {
          "output_type": "stream",
          "text": [
            "Model: \"sequential\"\n",
            "_________________________________________________________________\n",
            "Layer (type)                 Output Shape              Param #   \n",
            "=================================================================\n",
            "conv2d (Conv2D)              (None, 257, 11, 32)       320       \n",
            "_________________________________________________________________\n",
            "max_pooling2d (MaxPooling2D) (None, 129, 6, 32)        0         \n",
            "_________________________________________________________________\n",
            "batch_normalization (BatchNo (None, 129, 6, 32)        128       \n",
            "_________________________________________________________________\n",
            "conv2d_1 (Conv2D)            (None, 128, 5, 64)        8256      \n",
            "_________________________________________________________________\n",
            "max_pooling2d_1 (MaxPooling2 (None, 64, 3, 64)         0         \n",
            "_________________________________________________________________\n",
            "batch_normalization_1 (Batch (None, 64, 3, 64)         256       \n",
            "_________________________________________________________________\n",
            "conv2d_2 (Conv2D)            (None, 63, 2, 64)         16448     \n",
            "_________________________________________________________________\n",
            "max_pooling2d_2 (MaxPooling2 (None, 32, 1, 64)         0         \n",
            "_________________________________________________________________\n",
            "batch_normalization_2 (Batch (None, 32, 1, 64)         256       \n",
            "_________________________________________________________________\n",
            "flatten (Flatten)            (None, 2048)              0         \n",
            "_________________________________________________________________\n",
            "dense (Dense)                (None, 64)                131136    \n",
            "_________________________________________________________________\n",
            "dropout (Dropout)            (None, 64)                0         \n",
            "_________________________________________________________________\n",
            "dense_1 (Dense)              (None, 10)                650       \n",
            "=================================================================\n",
            "Total params: 157,450\n",
            "Trainable params: 157,130\n",
            "Non-trainable params: 320\n",
            "_________________________________________________________________\n"
          ],
          "name": "stdout"
        }
      ]
    },
    {
      "cell_type": "code",
      "metadata": {
        "colab": {
          "base_uri": "https://localhost:8080/"
        },
        "id": "gDdbMxw-PhdT",
        "outputId": "2f531b83-d6a6-4a39-c781-8b793693ef1e"
      },
      "source": [
        "# Training the model \n",
        "\n",
        "cnn_model.fit(X_train,y_train,validation_split=0.2,batch_size=32,epochs=15) "
      ],
      "execution_count": null,
      "outputs": [
        {
          "output_type": "stream",
          "text": [
            "Epoch 1/15\n",
            "88/88 [==============================] - 14s 148ms/step - loss: 2.0602 - accuracy: 0.3770 - val_loss: 4.5456 - val_accuracy: 0.1559\n",
            "Epoch 2/15\n",
            "88/88 [==============================] - 13s 145ms/step - loss: 1.4809 - accuracy: 0.5143 - val_loss: 1.3614 - val_accuracy: 0.5379\n",
            "Epoch 3/15\n",
            "88/88 [==============================] - 13s 146ms/step - loss: 1.1473 - accuracy: 0.6069 - val_loss: 1.1909 - val_accuracy: 0.5794\n",
            "Epoch 4/15\n",
            "88/88 [==============================] - 13s 147ms/step - loss: 0.9225 - accuracy: 0.6817 - val_loss: 1.2345 - val_accuracy: 0.5966\n",
            "Epoch 5/15\n",
            "88/88 [==============================] - 13s 146ms/step - loss: 0.7904 - accuracy: 0.7296 - val_loss: 1.2446 - val_accuracy: 0.5608\n",
            "Epoch 6/15\n",
            "88/88 [==============================] - 13s 145ms/step - loss: 0.6763 - accuracy: 0.7679 - val_loss: 1.0423 - val_accuracy: 0.6581\n",
            "Epoch 7/15\n",
            "88/88 [==============================] - 13s 145ms/step - loss: 0.5578 - accuracy: 0.8087 - val_loss: 1.0859 - val_accuracy: 0.6753\n",
            "Epoch 8/15\n",
            "88/88 [==============================] - 13s 146ms/step - loss: 0.5044 - accuracy: 0.8251 - val_loss: 0.9834 - val_accuracy: 0.6838\n",
            "Epoch 9/15\n",
            "88/88 [==============================] - 13s 145ms/step - loss: 0.4214 - accuracy: 0.8577 - val_loss: 1.0937 - val_accuracy: 0.6767\n",
            "Epoch 10/15\n",
            "88/88 [==============================] - 13s 145ms/step - loss: 0.3434 - accuracy: 0.8856 - val_loss: 1.0121 - val_accuracy: 0.6867\n",
            "Epoch 11/15\n",
            "88/88 [==============================] - 13s 145ms/step - loss: 0.3379 - accuracy: 0.8916 - val_loss: 1.0958 - val_accuracy: 0.6981\n",
            "Epoch 12/15\n",
            "88/88 [==============================] - 13s 145ms/step - loss: 0.2858 - accuracy: 0.9160 - val_loss: 1.2070 - val_accuracy: 0.6581\n",
            "Epoch 13/15\n",
            "88/88 [==============================] - 13s 144ms/step - loss: 0.2585 - accuracy: 0.9127 - val_loss: 1.2720 - val_accuracy: 0.6609\n",
            "Epoch 14/15\n",
            "88/88 [==============================] - 13s 145ms/step - loss: 0.2231 - accuracy: 0.9324 - val_loss: 1.2114 - val_accuracy: 0.6810\n",
            "Epoch 15/15\n",
            "88/88 [==============================] - 13s 144ms/step - loss: 0.2468 - accuracy: 0.9210 - val_loss: 1.4160 - val_accuracy: 0.6609\n"
          ],
          "name": "stdout"
        },
        {
          "output_type": "execute_result",
          "data": {
            "text/plain": [
              "<tensorflow.python.keras.callbacks.History at 0x7fbb90438f10>"
            ]
          },
          "metadata": {
            "tags": []
          },
          "execution_count": 9
        }
      ]
    },
    {
      "cell_type": "code",
      "metadata": {
        "colab": {
          "base_uri": "https://localhost:8080/"
        },
        "id": "UzPC4a1iTM9B",
        "outputId": "59690e9d-4611-48d7-f368-811a251abc9b"
      },
      "source": [
        "# Evaluating the CNN model on the test set\n",
        "\n",
        "test_accuracy = cnn_model.evaluate(X_test,y_test,verbose=2)"
      ],
      "execution_count": null,
      "outputs": [
        {
          "output_type": "stream",
          "text": [
            "47/47 - 1s - loss: 1.3535 - accuracy: 0.6662\n"
          ],
          "name": "stdout"
        }
      ]
    },
    {
      "cell_type": "markdown",
      "metadata": {
        "id": "Qedwz9GsiAqf"
      },
      "source": [
        "# **LSTM for Music genre classification**"
      ]
    },
    {
      "cell_type": "code",
      "metadata": {
        "colab": {
          "base_uri": "https://localhost:8080/"
        },
        "id": "JKACjPmTiKj_",
        "outputId": "111e06b1-557d-47f4-d32b-2e1b51dfaec8"
      },
      "source": [
        "# Gathering inputs and splitting data\n",
        "\n",
        "X = np.array(data['mfccs'])\n",
        "y = np.array(data['labels'])\n",
        "\n",
        "X_train,X_test,y_train,y_test = train_test_split(X,y,test_size=0.3)\n",
        "\n",
        "#Sanity check\n",
        "print(X_train.shape)\n",
        "print(X_test.shape)\n",
        "print(y_train.shape)\n",
        "print(y_test.shape)"
      ],
      "execution_count": 5,
      "outputs": [
        {
          "output_type": "stream",
          "text": [
            "(3495, 259, 13)\n",
            "(1498, 259, 13)\n",
            "(3495,)\n",
            "(1498,)\n"
          ],
          "name": "stdout"
        }
      ]
    },
    {
      "cell_type": "code",
      "metadata": {
        "colab": {
          "base_uri": "https://localhost:8080/"
        },
        "id": "c-ZWfsnojEZM",
        "outputId": "9253e70d-6ca1-42cf-9dbc-2aa1e6367ba7"
      },
      "source": [
        "# Building the LSTM model\n",
        "\n",
        "lstm_model = keras.Sequential([\n",
        "                      \n",
        "              keras.layers.LSTM(64,input_shape=[X_train.shape[1],X_train.shape[2]],return_sequences=True),\n",
        "              \n",
        "              keras.layers.LSTM(64),\n",
        "\n",
        "              keras.layers.Dense(64,activation='relu'),\n",
        "              keras.layers.Dropout(0.3),\n",
        "\n",
        "              keras.layers.Dense(10,activation='softmax')\n",
        "])\n",
        "\n",
        "lstm_model.compile(optimizer='adam',loss='sparse_categorical_crossentropy',metrics=['accuracy'])\n",
        "\n",
        "lstm_model.summary()"
      ],
      "execution_count": 6,
      "outputs": [
        {
          "output_type": "stream",
          "text": [
            "Model: \"sequential\"\n",
            "_________________________________________________________________\n",
            "Layer (type)                 Output Shape              Param #   \n",
            "=================================================================\n",
            "lstm (LSTM)                  (None, 259, 64)           19968     \n",
            "_________________________________________________________________\n",
            "lstm_1 (LSTM)                (None, 64)                33024     \n",
            "_________________________________________________________________\n",
            "dense (Dense)                (None, 64)                4160      \n",
            "_________________________________________________________________\n",
            "dropout (Dropout)            (None, 64)                0         \n",
            "_________________________________________________________________\n",
            "dense_1 (Dense)              (None, 10)                650       \n",
            "=================================================================\n",
            "Total params: 57,802\n",
            "Trainable params: 57,802\n",
            "Non-trainable params: 0\n",
            "_________________________________________________________________\n"
          ],
          "name": "stdout"
        }
      ]
    },
    {
      "cell_type": "code",
      "metadata": {
        "colab": {
          "base_uri": "https://localhost:8080/"
        },
        "id": "QaDpeIpNkdez",
        "outputId": "e9de3581-898a-4d37-8233-0a4f1673c503"
      },
      "source": [
        "# Training the LSTM model\n",
        "lstm_model.fit(X_train,y_train,validation_split=0.2,epochs=15,batch_size=32)"
      ],
      "execution_count": 7,
      "outputs": [
        {
          "output_type": "stream",
          "text": [
            "Epoch 1/15\n",
            "88/88 [==============================] - 30s 299ms/step - loss: 1.9901 - accuracy: 0.2861 - val_loss: 1.6915 - val_accuracy: 0.3906\n",
            "Epoch 2/15\n",
            "88/88 [==============================] - 25s 284ms/step - loss: 1.6397 - accuracy: 0.4099 - val_loss: 1.5408 - val_accuracy: 0.4106\n",
            "Epoch 3/15\n",
            "88/88 [==============================] - 26s 295ms/step - loss: 1.4690 - accuracy: 0.4653 - val_loss: 1.3849 - val_accuracy: 0.4735\n",
            "Epoch 4/15\n",
            "88/88 [==============================] - 26s 296ms/step - loss: 1.3471 - accuracy: 0.5075 - val_loss: 1.3413 - val_accuracy: 0.5050\n",
            "Epoch 5/15\n",
            "88/88 [==============================] - 26s 291ms/step - loss: 1.3199 - accuracy: 0.5376 - val_loss: 1.3252 - val_accuracy: 0.5064\n",
            "Epoch 6/15\n",
            "88/88 [==============================] - 27s 303ms/step - loss: 1.3066 - accuracy: 0.5358 - val_loss: 1.3226 - val_accuracy: 0.5107\n",
            "Epoch 7/15\n",
            "88/88 [==============================] - 26s 293ms/step - loss: 1.1963 - accuracy: 0.5855 - val_loss: 1.3109 - val_accuracy: 0.5036\n",
            "Epoch 8/15\n",
            "88/88 [==============================] - 26s 297ms/step - loss: 1.1209 - accuracy: 0.6155 - val_loss: 1.4029 - val_accuracy: 0.4807\n",
            "Epoch 9/15\n",
            "88/88 [==============================] - 25s 287ms/step - loss: 1.0886 - accuracy: 0.6191 - val_loss: 1.2289 - val_accuracy: 0.5737\n",
            "Epoch 10/15\n",
            "88/88 [==============================] - 25s 280ms/step - loss: 1.1196 - accuracy: 0.6059 - val_loss: 1.3644 - val_accuracy: 0.5122\n",
            "Epoch 11/15\n",
            "88/88 [==============================] - 26s 295ms/step - loss: 1.0627 - accuracy: 0.6266 - val_loss: 1.2508 - val_accuracy: 0.5594\n",
            "Epoch 12/15\n",
            "88/88 [==============================] - 27s 304ms/step - loss: 1.0618 - accuracy: 0.6323 - val_loss: 1.2834 - val_accuracy: 0.5279\n",
            "Epoch 13/15\n",
            "88/88 [==============================] - 26s 300ms/step - loss: 0.9689 - accuracy: 0.6584 - val_loss: 1.1782 - val_accuracy: 0.5722\n",
            "Epoch 14/15\n",
            "88/88 [==============================] - 26s 293ms/step - loss: 0.9400 - accuracy: 0.6738 - val_loss: 1.1902 - val_accuracy: 0.5894\n",
            "Epoch 15/15\n",
            "88/88 [==============================] - 26s 291ms/step - loss: 0.8917 - accuracy: 0.6917 - val_loss: 1.2147 - val_accuracy: 0.5851\n"
          ],
          "name": "stdout"
        },
        {
          "output_type": "execute_result",
          "data": {
            "text/plain": [
              "<tensorflow.python.keras.callbacks.History at 0x7f57f7845690>"
            ]
          },
          "metadata": {
            "tags": []
          },
          "execution_count": 7
        }
      ]
    },
    {
      "cell_type": "code",
      "metadata": {
        "colab": {
          "base_uri": "https://localhost:8080/"
        },
        "id": "77PlH3FCA-Hf",
        "outputId": "aa20d311-7128-4331-c4c4-6e5274470e89"
      },
      "source": [
        "# Evaluating the LSTM model on the test set\n",
        "lstm_model.evaluate(X_test,y_test)"
      ],
      "execution_count": 8,
      "outputs": [
        {
          "output_type": "stream",
          "text": [
            "47/47 [==============================] - 5s 109ms/step - loss: 1.2447 - accuracy: 0.5501\n"
          ],
          "name": "stdout"
        },
        {
          "output_type": "execute_result",
          "data": {
            "text/plain": [
              "[1.2447290420532227, 0.5500667691230774]"
            ]
          },
          "metadata": {
            "tags": []
          },
          "execution_count": 8
        }
      ]
    }
  ]
}